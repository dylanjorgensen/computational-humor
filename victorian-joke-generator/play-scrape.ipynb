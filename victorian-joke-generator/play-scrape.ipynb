{
 "cells": [
  {
   "cell_type": "code",
   "execution_count": 100,
   "metadata": {
    "collapsed": true
   },
   "outputs": [],
   "source": [
    "from bs4 import BeautifulSoup\n",
    "from bs4 import Tag"
   ]
  },
  {
   "cell_type": "code",
   "execution_count": 101,
   "metadata": {
    "collapsed": false
   },
   "outputs": [
    {
     "data": {
      "text/plain": [
       "<html><body><li><div><p><strong>stff</strong></p></div></li><li></li></body></html>"
      ]
     },
     "execution_count": 101,
     "metadata": {},
     "output_type": "execute_result"
    }
   ],
   "source": [
    "soup = BeautifulSoup(\"<li><div><p><strong>stff</strong></p></div><li>\", \"lxml\")\n",
    "soup"
   ]
  },
  {
   "cell_type": "code",
   "execution_count": 102,
   "metadata": {
    "collapsed": false
   },
   "outputs": [
    {
     "data": {
      "text/plain": [
       "<p></p>"
      ]
     },
     "execution_count": 102,
     "metadata": {},
     "output_type": "execute_result"
    }
   ],
   "source": [
    "soup.p.unwrap()"
   ]
  },
  {
   "cell_type": "code",
   "execution_count": 128,
   "metadata": {
    "collapsed": false,
    "scrolled": true
   },
   "outputs": [
    {
     "name": "stdout",
     "output_type": "stream",
     "text": [
      "<http.client.HTTPResponse object at 0x10a1bc748>\n"
     ]
    }
   ],
   "source": [
    "#import the library used to query a website\n",
    "from urllib.request import urlopen\n",
    "html = urlopen(\"http://victorianhumour.com/jokedb/?offset=40&paging=40\")\n",
    "print(html)"
   ]
  },
  {
   "cell_type": "code",
   "execution_count": 129,
   "metadata": {
    "collapsed": false
   },
   "outputs": [],
   "source": [
    "soup = BeautifulSoup(html, \"lxml\")"
   ]
  },
  {
   "cell_type": "code",
   "execution_count": 130,
   "metadata": {
    "collapsed": true
   },
   "outputs": [],
   "source": [
    "soup.t.decompose()"
   ]
  },
  {
   "cell_type": "code",
   "execution_count": 138,
   "metadata": {
    "collapsed": false
   },
   "outputs": [
    {
     "name": "stdout",
     "output_type": "stream",
     "text": [
      "[' ', \" We (says a New York paper) had the curiosity the other day to make a note of the articles attached to a lady's dress, the \"]\n",
      "[' ', <t>Birds and Insects.</t>, ' The cawing rookis the smallestof the crow tribe. He is a true insect-destroyer. The cornix, or real crow,v/ill kill youn']\n",
      "[' ', <t>In the Midst of Life we are in Death.</t>, ' A very singular occurrence was noticed in the 10th Massachusetts regiment at the siege of Petersburg.']\n",
      "[' ', <t>The Future.</t>, ' Prognostications are a notable proof of the wild curiosity of our nature, grasping at and anticipating future things, as if we ']\n",
      "[' ', <t>Poverty.</t>, ' Povertyis, except where there is an actual want of food and raiment, a thing much moreimaginary than real. The shame of poverty— t']\n",
      "[' ', <t>Seeing through Him.</t>, ' The Cure of St. Sulpice, Paris, wishing to induce the octagenarian millionaire, Samuel Bernard, to leave a large sum of']\n",
      "[' ', <t>A Choice Wind.</t>, ' Dean Ramsay, in his \"Reminiscences of Scottish Life and Character,\" relates this incident :— In one of our northern counties']\n",
      "[' ', <t>The English Guards at Waterloo.</t>, ' Captain Gronow says :— The Guards had what in modern battues is called a hot corner of it, and the greatest']\n",
      "[' ', <t>A Left-handedCompliment.</t>, ' \"Iowe you one,\" said a withered old CSlebs to a lady the other night at a party. \"For what?\" said she. \" \" Why, fo']\n",
      "[' ', <t>Wedlock.</t>, ' The married man is like the bee, that fixes his hive, augments the world, benefits the republic, and by a daily diligence, without']\n",
      "[' ', <t>Sheridan at a Westminster Election.</t>, ' Mr. Timbs, in his \" Wits and Humorists\" relates the following anecdote:— Towards the close of the elect']\n",
      "[' ', <t>Too Much at Once.</t>, ' Lord Chesterfield one day, at an inn wherehe dined, complained very much that the plates and dishes were very dirty. The ']\n",
      "[' ', <t>An American Innkeeper.</t>, ' Old Rowe kept a hotel, where, as he used to say, you could get anything that was ever made to eat. One day in came a']\n",
      "[' ', <t>Thoughts on Reading.</t>, ' For general improvement, a man should read whatever hisimmediate inclination prompts him to ;though, to be sure, if a ']\n",
      "[' ', <t>Napoleon's Love for his Soldiers.</t>, ' \"For a sovereign who has worn two crowns, Iam poor, my dear count,\" said Napoleon to Las Cases, at St. He']\n",
      "[' ', <t>Education of Children.</t>, ' In the education of children, there is nothing like alluring the appetites andaffection; otherwise youmake so many a']\n",
      "[' ', <t>Death— should it be feared ?</t>, ' Death is a part of life. It is nothing more than the negation of life. If life,therefore, be no general good, ']\n",
      "[' ', <t>Birth-Place of Newton.</t>, ' The clergyman of aparish, not thirty miles from Glasgow, a very old gentleman, and altogether of the old school, hav']\n",
      "[' ', <t>Definition of a Soldier.</t>, ' Dean Swift defined a soldier as a being hired to killin cold blood as many of his own species, who have never offe']\n",
      "[' ', <t>Hardly a Coat to his Back.</t>, ' Poor H ,the comedian, once so well known in the Manchester and Liverpool theatres, having called ina doctor duri']\n",
      "[' ', <t>How Dr.Johnson wooed.</t>, ' When Dr. Johnson asked the Widow Porter to be his wife,he told her candidly that he had no money, and that his uncle ']\n",
      "[' ', <t>The Republic of Letters</t>, ' Tom Hood suggested that the phrase \"republic of letters\" was hit upon to insinuate that, taking the whole lot of au']\n",
      "[' ', <t>The Pleasure of Paying.</t>, ' It removes that uneasiness whicha true spirit feels from dependence and obligation. It affords pleasure to the cred']\n",
      "[' ', <t>Classical Quotation by Ingoldsby.</t>, ' Ihappened, at dinner,says a writerinNotes andQueries, to sit next to the lamented gentleman so well known']\n",
      "[' ', <t>Ex Nihilo Nihil Fit.</t>, ' The following admirableriddle was quoted many years ago inNotes andQueries. The authorship of it seems to be involved ']\n",
      "[' ', <t>A ConditionalPrayer.</t>, ' At the timethat the war was raging on the Continent, an honest woman, who had a son in the army, was much concerned ab']\n",
      "[' ', <t>Napoleon's Hatredof Sir Hudson Lowe.</t>, ' \"\"Iunderstand,\" said Napoleon to one of his attendants, that this governorproposed an officer should e']\n",
      "[' ', <t>Chemical Diatribes.</t>, ' Chemists, natural philosophers, and mathematicians,are all of the genus irritabile;the first class especially are remar']\n",
      "[' ', <t>A Bill-sticker turned Actor.</t>, ' Bob Palmer, the comedian, had been originally a billsticker, which was pretty generally known among theatrical']\n",
      "[' ', <t>Solitude.</t>, ' Crowded towns and busy societies may delight the unthinking and the gay,but solitude is the best nurse of wisdom. In solitude the']\n",
      "[' ', <t>Division of Labour.</t>, ' First Paviour: \"Bill, wat\\'s diwision of labour, as they talksabout ?\" SecondPaviour: \"It meansyouheaves the rammer, and']\n",
      "[' ', <t>The Sick Minister.</t>, ' A venerable divine,who,in his day and generation, was remarkablefor his primitive and abstinent mode of life, at length ']\n",
      "[' ', <t>Chemical Analysis.</t>, ' A Scotch laird, on a market-day in Kilmarnock, went into a tavern with a friend, and ordered some whisky. The waiter, wh']\n",
      "[' ', <t>A Black \"Nigger.\"</t>, ' A little boy one day ran to his father, and said, \" O father! IVe just seen theblackest nigger that ever was!\" \"How black']\n",
      "[' ', <t>A Test of Memory.</t>, ' A gentleman had so bad a memory, and so circumscribed, that he scarce knew whathe read. A friend, knowing this, lent him ']\n",
      "[' ', <t>A Luxurious Campaigner.</t>, ' Captain Gronow, inhis \"Reminiscences,\" relates asfollows of a luxury-loving officer :— He was surrounded by muletee']\n",
      "[' ', <t>An Advertisement.</t>, ' The following remarkable advertisement appeared in a newspaper recently:— \" Poacher wanted. Wanted a thoroughly experienc']\n",
      "[' ', <t>Phrenology at Fault.</t>, \" After Professor Porson's death, his head was dissected, when, to the confusion of craniologists and the consolation of\"]\n",
      "[' ', <t>Gambling.</t>, ' It is possible that a wiseand goodman may be prevailed onto game; but it is impossible that a professed gamester should be a wise']\n",
      "[' ', <t>Rather too Fast.</t>, ' Abernethy, while canvassing for the office of surgeon \"toSt.Bartholomew\\'s Hospital,called upon arich grocer. \"Isuppose,sir']\n"
     ]
    }
   ],
   "source": [
    "for row in soup.find_all('j'):\n",
    "    print(row.contents)"
   ]
  },
  {
   "cell_type": "code",
   "execution_count": 127,
   "metadata": {
    "collapsed": false
   },
   "outputs": [
    {
     "name": "stdout",
     "output_type": "stream",
     "text": [
      "None\n",
      "None\n",
      "None\n",
      "None\n",
      "<j> <t>Modern Fashions.</t> We (says a New York paper) had the curiosity the other day to make a note of the articles attached to a lady's dress, the </j>\n",
      "None\n",
      "None\n",
      "None\n",
      "<j> <t>Modern Fashions.</t> We (says a New York paper) had the curiosity the other day to make a note of the articles attached to a lady's dress, the </j>\n",
      "None\n",
      "None\n",
      "None\n",
      "None\n",
      "None\n",
      "None\n",
      "<j> <t>Modern Fashions.</t> We (says a New York paper) had the curiosity the other day to make a note of the articles attached to a lady's dress, the </j>\n",
      "None\n",
      "<j> <t>Modern Fashions.</t> We (says a New York paper) had the curiosity the other day to make a note of the articles attached to a lady's dress, the </j>\n",
      "None\n",
      "None\n",
      "None\n",
      "<j> <t>Birds and Insects.</t> The cawing rookis the smallestof the crow tribe. He is a true insect-destroyer. The cornix, or real crow,v/ill kill youn</j>\n",
      "None\n",
      "<j> <t>Birds and Insects.</t> The cawing rookis the smallestof the crow tribe. He is a true insect-destroyer. The cornix, or real crow,v/ill kill youn</j>\n",
      "None\n",
      "None\n",
      "None\n",
      "<j> <t>In the Midst of Life we are in Death.</t> A very singular occurrence was noticed in the 10th Massachusetts regiment at the siege of Petersburg.</j>\n",
      "None\n",
      "<j> <t>In the Midst of Life we are in Death.</t> A very singular occurrence was noticed in the 10th Massachusetts regiment at the siege of Petersburg.</j>\n",
      "None\n",
      "None\n",
      "None\n",
      "<j> <t>The Future.</t> Prognostications are a notable proof of the wild curiosity of our nature, grasping at and anticipating future things, as if we </j>\n",
      "None\n",
      "<j> <t>The Future.</t> Prognostications are a notable proof of the wild curiosity of our nature, grasping at and anticipating future things, as if we </j>\n",
      "None\n",
      "None\n",
      "None\n",
      "<j> <t>Poverty.</t> Povertyis, except where there is an actual want of food and raiment, a thing much moreimaginary than real. The shame of poverty— t</j>\n",
      "None\n",
      "<j> <t>Poverty.</t> Povertyis, except where there is an actual want of food and raiment, a thing much moreimaginary than real. The shame of poverty— t</j>\n",
      "None\n",
      "None\n",
      "None\n",
      "<j> <t>Seeing through Him.</t> The Cure of St. Sulpice, Paris, wishing to induce the octagenarian millionaire, Samuel Bernard, to leave a large sum of</j>\n",
      "None\n",
      "<j> <t>Seeing through Him.</t> The Cure of St. Sulpice, Paris, wishing to induce the octagenarian millionaire, Samuel Bernard, to leave a large sum of</j>\n",
      "None\n",
      "None\n",
      "None\n",
      "<j> <t>A Choice Wind.</t> Dean Ramsay, in his \"Reminiscences of Scottish Life and Character,\" relates this incident :— In one of our northern counties</j>\n",
      "None\n",
      "<j> <t>A Choice Wind.</t> Dean Ramsay, in his \"Reminiscences of Scottish Life and Character,\" relates this incident :— In one of our northern counties</j>\n",
      "None\n",
      "None\n",
      "None\n",
      "<j> <t>The English Guards at Waterloo.</t> Captain Gronow says :— The Guards had what in modern battues is called a hot corner of it, and the greatest</j>\n",
      "None\n",
      "<j> <t>The English Guards at Waterloo.</t> Captain Gronow says :— The Guards had what in modern battues is called a hot corner of it, and the greatest</j>\n",
      "None\n",
      "None\n",
      "None\n",
      "<j> <t>A Left-handedCompliment.</t> \"Iowe you one,\" said a withered old CSlebs to a lady the other night at a party. \"For what?\" said she. \" \" Why, fo</j>\n",
      "None\n",
      "<j> <t>A Left-handedCompliment.</t> \"Iowe you one,\" said a withered old CSlebs to a lady the other night at a party. \"For what?\" said she. \" \" Why, fo</j>\n",
      "None\n",
      "None\n",
      "None\n",
      "<j> <t>Wedlock.</t> The married man is like the bee, that fixes his hive, augments the world, benefits the republic, and by a daily diligence, without</j>\n",
      "None\n",
      "<j> <t>Wedlock.</t> The married man is like the bee, that fixes his hive, augments the world, benefits the republic, and by a daily diligence, without</j>\n",
      "None\n",
      "None\n",
      "None\n",
      "<j> <t>Sheridan at a Westminster Election.</t> Mr. Timbs, in his \" Wits and Humorists\" relates the following anecdote:— Towards the close of the elect</j>\n",
      "None\n",
      "<j> <t>Sheridan at a Westminster Election.</t> Mr. Timbs, in his \" Wits and Humorists\" relates the following anecdote:— Towards the close of the elect</j>\n",
      "None\n",
      "None\n",
      "None\n",
      "<j> <t>Too Much at Once.</t> Lord Chesterfield one day, at an inn wherehe dined, complained very much that the plates and dishes were very dirty. The </j>\n",
      "None\n",
      "<j> <t>Too Much at Once.</t> Lord Chesterfield one day, at an inn wherehe dined, complained very much that the plates and dishes were very dirty. The </j>\n",
      "None\n",
      "None\n",
      "None\n",
      "<j> <t>An American Innkeeper.</t> Old Rowe kept a hotel, where, as he used to say, you could get anything that was ever made to eat. One day in came a</j>\n",
      "None\n",
      "<j> <t>An American Innkeeper.</t> Old Rowe kept a hotel, where, as he used to say, you could get anything that was ever made to eat. One day in came a</j>\n",
      "None\n",
      "None\n",
      "None\n",
      "<j> <t>Thoughts on Reading.</t> For general improvement, a man should read whatever hisimmediate inclination prompts him to ;though, to be sure, if a </j>\n",
      "None\n",
      "<j> <t>Thoughts on Reading.</t> For general improvement, a man should read whatever hisimmediate inclination prompts him to ;though, to be sure, if a </j>\n",
      "None\n",
      "None\n",
      "None\n",
      "<j> <t>Napoleon's Love for his Soldiers.</t> \"For a sovereign who has worn two crowns, Iam poor, my dear count,\" said Napoleon to Las Cases, at St. He</j>\n",
      "None\n",
      "<j> <t>Napoleon's Love for his Soldiers.</t> \"For a sovereign who has worn two crowns, Iam poor, my dear count,\" said Napoleon to Las Cases, at St. He</j>\n",
      "None\n",
      "None\n",
      "None\n",
      "<j> <t>Education of Children.</t> In the education of children, there is nothing like alluring the appetites andaffection; otherwise youmake so many a</j>\n",
      "None\n",
      "<j> <t>Education of Children.</t> In the education of children, there is nothing like alluring the appetites andaffection; otherwise youmake so many a</j>\n",
      "None\n",
      "None\n",
      "None\n",
      "<j> <t>Death— should it be feared ?</t> Death is a part of life. It is nothing more than the negation of life. If life,therefore, be no general good, </j>\n",
      "None\n",
      "<j> <t>Death— should it be feared ?</t> Death is a part of life. It is nothing more than the negation of life. If life,therefore, be no general good, </j>\n",
      "None\n",
      "None\n",
      "None\n",
      "<j> <t>Birth-Place of Newton.</t> The clergyman of aparish, not thirty miles from Glasgow, a very old gentleman, and altogether of the old school, hav</j>\n",
      "None\n",
      "<j> <t>Birth-Place of Newton.</t> The clergyman of aparish, not thirty miles from Glasgow, a very old gentleman, and altogether of the old school, hav</j>\n",
      "None\n",
      "None\n",
      "None\n",
      "<j> <t>Definition of a Soldier.</t> Dean Swift defined a soldier as a being hired to killin cold blood as many of his own species, who have never offe</j>\n",
      "None\n",
      "<j> <t>Definition of a Soldier.</t> Dean Swift defined a soldier as a being hired to killin cold blood as many of his own species, who have never offe</j>\n",
      "None\n",
      "None\n",
      "None\n",
      "<j> <t>Hardly a Coat to his Back.</t> Poor H ,the comedian, once so well known in the Manchester and Liverpool theatres, having called ina doctor duri</j>\n",
      "None\n",
      "<j> <t>Hardly a Coat to his Back.</t> Poor H ,the comedian, once so well known in the Manchester and Liverpool theatres, having called ina doctor duri</j>\n",
      "None\n",
      "None\n",
      "None\n",
      "<j> <t>How Dr.Johnson wooed.</t> When Dr. Johnson asked the Widow Porter to be his wife,he told her candidly that he had no money, and that his uncle </j>\n",
      "None\n",
      "<j> <t>How Dr.Johnson wooed.</t> When Dr. Johnson asked the Widow Porter to be his wife,he told her candidly that he had no money, and that his uncle </j>\n",
      "None\n",
      "None\n",
      "None\n",
      "<j> <t>The Republic of Letters</t> Tom Hood suggested that the phrase \"republic of letters\" was hit upon to insinuate that, taking the whole lot of au</j>\n",
      "None\n",
      "<j> <t>The Republic of Letters</t> Tom Hood suggested that the phrase \"republic of letters\" was hit upon to insinuate that, taking the whole lot of au</j>\n",
      "None\n",
      "None\n",
      "None\n",
      "<j> <t>The Pleasure of Paying.</t> It removes that uneasiness whicha true spirit feels from dependence and obligation. It affords pleasure to the cred</j>\n",
      "None\n",
      "<j> <t>The Pleasure of Paying.</t> It removes that uneasiness whicha true spirit feels from dependence and obligation. It affords pleasure to the cred</j>\n",
      "None\n",
      "None\n",
      "None\n",
      "<j> <t>Classical Quotation by Ingoldsby.</t> Ihappened, at dinner,says a writerinNotes andQueries, to sit next to the lamented gentleman so well known</j>\n",
      "None\n",
      "<j> <t>Classical Quotation by Ingoldsby.</t> Ihappened, at dinner,says a writerinNotes andQueries, to sit next to the lamented gentleman so well known</j>\n",
      "None\n",
      "None\n",
      "None\n",
      "<j> <t>Ex Nihilo Nihil Fit.</t> The following admirableriddle was quoted many years ago inNotes andQueries. The authorship of it seems to be involved </j>\n",
      "None\n",
      "<j> <t>Ex Nihilo Nihil Fit.</t> The following admirableriddle was quoted many years ago inNotes andQueries. The authorship of it seems to be involved </j>\n",
      "None\n",
      "None\n",
      "None\n",
      "<j> <t>A ConditionalPrayer.</t> At the timethat the war was raging on the Continent, an honest woman, who had a son in the army, was much concerned ab</j>\n",
      "None\n",
      "<j> <t>A ConditionalPrayer.</t> At the timethat the war was raging on the Continent, an honest woman, who had a son in the army, was much concerned ab</j>\n",
      "None\n",
      "None\n",
      "None\n",
      "<j> <t>Napoleon's Hatredof Sir Hudson Lowe.</t> \"\"Iunderstand,\" said Napoleon to one of his attendants, that this governorproposed an officer should e</j>\n",
      "None\n",
      "<j> <t>Napoleon's Hatredof Sir Hudson Lowe.</t> \"\"Iunderstand,\" said Napoleon to one of his attendants, that this governorproposed an officer should e</j>\n",
      "None\n",
      "None\n",
      "None\n",
      "<j> <t>Chemical Diatribes.</t> Chemists, natural philosophers, and mathematicians,are all of the genus irritabile;the first class especially are remar</j>\n",
      "None\n",
      "<j> <t>Chemical Diatribes.</t> Chemists, natural philosophers, and mathematicians,are all of the genus irritabile;the first class especially are remar</j>\n",
      "None\n",
      "None\n",
      "None\n",
      "<j> <t>A Bill-sticker turned Actor.</t> Bob Palmer, the comedian, had been originally a billsticker, which was pretty generally known among theatrical</j>\n",
      "None\n",
      "<j> <t>A Bill-sticker turned Actor.</t> Bob Palmer, the comedian, had been originally a billsticker, which was pretty generally known among theatrical</j>\n",
      "None\n",
      "None\n",
      "None\n",
      "<j> <t>Solitude.</t> Crowded towns and busy societies may delight the unthinking and the gay,but solitude is the best nurse of wisdom. In solitude the</j>\n",
      "None\n",
      "<j> <t>Solitude.</t> Crowded towns and busy societies may delight the unthinking and the gay,but solitude is the best nurse of wisdom. In solitude the</j>\n",
      "None\n",
      "None\n",
      "None\n",
      "<j> <t>Division of Labour.</t> First Paviour: \"Bill, wat's diwision of labour, as they talksabout ?\" SecondPaviour: \"It meansyouheaves the rammer, and</j>\n",
      "None\n",
      "<j> <t>Division of Labour.</t> First Paviour: \"Bill, wat's diwision of labour, as they talksabout ?\" SecondPaviour: \"It meansyouheaves the rammer, and</j>\n",
      "None\n",
      "None\n",
      "None\n",
      "<j> <t>The Sick Minister.</t> A venerable divine,who,in his day and generation, was remarkablefor his primitive and abstinent mode of life, at length </j>\n",
      "None\n",
      "<j> <t>The Sick Minister.</t> A venerable divine,who,in his day and generation, was remarkablefor his primitive and abstinent mode of life, at length </j>\n",
      "None\n",
      "None\n",
      "None\n",
      "<j> <t>Chemical Analysis.</t> A Scotch laird, on a market-day in Kilmarnock, went into a tavern with a friend, and ordered some whisky. The waiter, wh</j>\n",
      "None\n",
      "<j> <t>Chemical Analysis.</t> A Scotch laird, on a market-day in Kilmarnock, went into a tavern with a friend, and ordered some whisky. The waiter, wh</j>\n",
      "None\n",
      "None\n",
      "None\n",
      "<j> <t>A Black \"Nigger.\"</t> A little boy one day ran to his father, and said, \" O father! IVe just seen theblackest nigger that ever was!\" \"How black</j>\n",
      "None\n",
      "<j> <t>A Black \"Nigger.\"</t> A little boy one day ran to his father, and said, \" O father! IVe just seen theblackest nigger that ever was!\" \"How black</j>\n",
      "None\n",
      "None\n",
      "None\n",
      "<j> <t>A Test of Memory.</t> A gentleman had so bad a memory, and so circumscribed, that he scarce knew whathe read. A friend, knowing this, lent him </j>\n",
      "None\n",
      "<j> <t>A Test of Memory.</t> A gentleman had so bad a memory, and so circumscribed, that he scarce knew whathe read. A friend, knowing this, lent him </j>\n",
      "None\n",
      "None\n",
      "None\n",
      "<j> <t>A Luxurious Campaigner.</t> Captain Gronow, inhis \"Reminiscences,\" relates asfollows of a luxury-loving officer :— He was surrounded by muletee</j>\n",
      "None\n",
      "<j> <t>A Luxurious Campaigner.</t> Captain Gronow, inhis \"Reminiscences,\" relates asfollows of a luxury-loving officer :— He was surrounded by muletee</j>\n",
      "None\n",
      "None\n",
      "None\n",
      "<j> <t>An Advertisement.</t> The following remarkable advertisement appeared in a newspaper recently:— \" Poacher wanted. Wanted a thoroughly experienc</j>\n",
      "None\n",
      "<j> <t>An Advertisement.</t> The following remarkable advertisement appeared in a newspaper recently:— \" Poacher wanted. Wanted a thoroughly experienc</j>\n",
      "None\n",
      "None\n",
      "None\n",
      "<j> <t>Phrenology at Fault.</t> After Professor Porson's death, his head was dissected, when, to the confusion of craniologists and the consolation of</j>\n",
      "None\n",
      "<j> <t>Phrenology at Fault.</t> After Professor Porson's death, his head was dissected, when, to the confusion of craniologists and the consolation of</j>\n",
      "None\n",
      "None\n",
      "None\n",
      "<j> <t>Gambling.</t> It is possible that a wiseand goodman may be prevailed onto game; but it is impossible that a professed gamester should be a wise</j>\n",
      "None\n",
      "<j> <t>Gambling.</t> It is possible that a wiseand goodman may be prevailed onto game; but it is impossible that a professed gamester should be a wise</j>\n",
      "None\n",
      "None\n",
      "None\n",
      "<j> <t>Rather too Fast.</t> Abernethy, while canvassing for the office of surgeon \"toSt.Bartholomew's Hospital,called upon arich grocer. \"Isuppose,sir</j>\n",
      "None\n",
      "<j> <t>Rather too Fast.</t> Abernethy, while canvassing for the office of surgeon \"toSt.Bartholomew's Hospital,called upon arich grocer. \"Isuppose,sir</j>\n",
      "None\n",
      "None\n",
      "None\n"
     ]
    }
   ],
   "source": [
    "for div in soup.find_all('div'):\n",
    "    print(div.j)"
   ]
  },
  {
   "cell_type": "code",
   "execution_count": 115,
   "metadata": {
    "collapsed": false
   },
   "outputs": [],
   "source": [
    "soup.t.replace_with('hi')\n",
    "\n"
   ]
  },
  {
   "cell_type": "code",
   "execution_count": 117,
   "metadata": {
    "collapsed": false
   },
   "outputs": [
    {
     "ename": "AttributeError",
     "evalue": "'NoneType' object has no attribute 'replace_with'",
     "output_type": "error",
     "traceback": [
      "\u001b[0;31m---------------------------------------------------------------------------\u001b[0m",
      "\u001b[0;31mAttributeError\u001b[0m                            Traceback (most recent call last)",
      "\u001b[0;32m<ipython-input-117-25af74afd2c2>\u001b[0m in \u001b[0;36m<module>\u001b[0;34m()\u001b[0m\n\u001b[1;32m      3\u001b[0m \u001b[0;32mfor\u001b[0m \u001b[0mrow\u001b[0m \u001b[0;32min\u001b[0m \u001b[0msoup\u001b[0m\u001b[0;34m.\u001b[0m\u001b[0mfind_all\u001b[0m\u001b[0;34m(\u001b[0m\u001b[0;34m'j'\u001b[0m\u001b[0;34m)\u001b[0m\u001b[0;34m:\u001b[0m\u001b[0;34m\u001b[0m\u001b[0m\n\u001b[1;32m      4\u001b[0m     \u001b[0;31m#print(row.t.string)\u001b[0m\u001b[0;34m\u001b[0m\u001b[0;34m\u001b[0m\u001b[0m\n\u001b[0;32m----> 5\u001b[0;31m     \u001b[0mrow\u001b[0m\u001b[0;34m.\u001b[0m\u001b[0mt\u001b[0m\u001b[0;34m.\u001b[0m\u001b[0mreplace_with\u001b[0m\u001b[0;34m(\u001b[0m\u001b[0;34m'hi'\u001b[0m\u001b[0;34m)\u001b[0m\u001b[0;34m\u001b[0m\u001b[0m\n\u001b[0m",
      "\u001b[0;31mAttributeError\u001b[0m: 'NoneType' object has no attribute 'replace_with'"
     ]
    }
   ],
   "source": [
    "#soup.t.string.wrap(soup.new_tag(\"b\"))\n",
    "\n",
    "for row in soup.find_all('j'):\n",
    "    #print(row.t.string)\n",
    "    row.t.replace_with('hi')"
   ]
  },
  {
   "cell_type": "code",
   "execution_count": null,
   "metadata": {
    "collapsed": true
   },
   "outputs": [],
   "source": []
  }
 ],
 "metadata": {
  "anaconda-cloud": {},
  "kernelspec": {
   "display_name": "Python [default]",
   "language": "python",
   "name": "python3"
  },
  "language_info": {
   "codemirror_mode": {
    "name": "ipython",
    "version": 3
   },
   "file_extension": ".py",
   "mimetype": "text/x-python",
   "name": "python",
   "nbconvert_exporter": "python",
   "pygments_lexer": "ipython3",
   "version": "3.5.2"
  }
 },
 "nbformat": 4,
 "nbformat_minor": 1
}
