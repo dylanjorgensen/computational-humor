{
 "cells": [
  {
   "cell_type": "markdown",
   "metadata": {},
   "source": [
    "### Resources:\n",
    "- [TFLearn Examples](https://github.com/tflearn/tflearn/blob/master/examples/nlp/lstm_generator_shakespeare.py)\n",
    "- [Victorian Humour Tumblr](http://victorianhumour.tumblr.com/)\n",
    "- [Victorian Jokes](http://victorianhumour.com/jokedb/)\n",
    "- [WildML](http://www.wildml.com/2016/08/rnns-in-tensorflow-a-practical-guide-and-undocumented-features/)"
   ]
  },
  {
   "cell_type": "markdown",
   "metadata": {},
   "source": [
    "# Goal\n",
    "- To build and train a recurrent neural network with victorian style humor then have it generate new text from what it learned."
   ]
  },
  {
   "cell_type": "code",
   "execution_count": 1,
   "metadata": {
    "collapsed": true
   },
   "outputs": [],
   "source": [
    "import os\n",
    "import pickle\n",
    "from six.moves import urllib\n",
    "import tflearn\n",
    "from tflearn.data_utils import *"
   ]
  },
  {
   "cell_type": "code",
   "execution_count": 2,
   "metadata": {
    "collapsed": true
   },
   "outputs": [],
   "source": [
    "# Hyperparameters\n",
    "N_SEQUENCE = 25 # maximum length of sequence\n",
    "path = \"shakespeare_input.txt\"\n"
   ]
  },
  {
   "cell_type": "markdown",
   "metadata": {},
   "source": [
    "# Data"
   ]
  },
  {
   "cell_type": "code",
   "execution_count": 3,
   "metadata": {
    "collapsed": true
   },
   "outputs": [],
   "source": [
    "# downloads txt data if not already downloaded\n",
    "if not os.path.isfile(path):\n",
    "    urllib.request.urlretrieve(\"https://raw.githubusercontent.com/tflearn/tflearn.github.io/master/resources/shakespeare_input.txt\", path)"
   ]
  },
  {
   "cell_type": "code",
   "execution_count": 4,
   "metadata": {
    "collapsed": false
   },
   "outputs": [
    {
     "name": "stdout",
     "output_type": "stream",
     "text": [
      "Loading previous char_idx\n",
      "<class 'dict'>\n",
      "67\n"
     ]
    },
    {
     "data": {
      "text/plain": [
       "{'\\n': 4,\n",
       " ' ': 60,\n",
       " '!': 20,\n",
       " '$': 36,\n",
       " '&': 21,\n",
       " \"'\": 11,\n",
       " ',': 8,\n",
       " '-': 0,\n",
       " '.': 58,\n",
       " '3': 61}"
      ]
     },
     "execution_count": 4,
     "metadata": {},
     "output_type": "execute_result"
    }
   ],
   "source": [
    "# Loads a character vectors of unique values\n",
    "char_idx_file = 'char_idx.pickle'\n",
    "if os.path.isfile(char_idx_file):\n",
    "  print('Loading previous char_idx')\n",
    "  char_idx = pickle.load(open(char_idx_file, 'rb'))\n",
    "    \n",
    "print(type(char_idx))\n",
    "print(len(char_idx))\n",
    "{k: char_idx[k] for k in sorted(char_idx.keys())[:10]}"
   ]
  },
  {
   "cell_type": "code",
   "execution_count": 5,
   "metadata": {
    "collapsed": false
   },
   "outputs": [
    {
     "name": "stdout",
     "output_type": "stream",
     "text": [
      "Vectorizing text...\n",
      "Text total length: 17755\n",
      "Distinct chars: 58\n",
      "Total sequences: 5910\n"
     ]
    }
   ],
   "source": [
    "# REMINDER: path = \"shakespeare_input.txt\"\n",
    "# REMINDER: maximum length of sequence = 25\n",
    "\n",
    "# Vectorize a string and returns parsed sequences and targets, along with the associated dictionary.\n",
    "# http://tflearn.org/data_utils/#string_to_semi_redundant_sequences\n",
    "X, Y, char_idx = textfile_to_semi_redundant_sequences(path, seq_maxlen=N_SEQUENCE, redun_step=3)"
   ]
  },
  {
   "cell_type": "code",
   "execution_count": 6,
   "metadata": {
    "collapsed": false
   },
   "outputs": [
    {
     "name": "stdout",
     "output_type": "stream",
     "text": [
      "<class 'numpy.ndarray'>\n",
      "(5910, 25, 58)\n"
     ]
    },
    {
     "data": {
      "text/plain": [
       "array([[[False, False, False, ..., False, False, False],\n",
       "        [False, False, False, ..., False, False, False],\n",
       "        [False, False, False, ..., False, False, False],\n",
       "        ..., \n",
       "        [False, False, False, ..., False, False,  True],\n",
       "        [False, False, False, ..., False, False, False],\n",
       "        [False, False, False, ..., False, False, False]]], dtype=bool)"
      ]
     },
     "execution_count": 6,
     "metadata": {},
     "output_type": "execute_result"
    }
   ],
   "source": [
    "# Parsed sequences\n",
    "print(type(X))\n",
    "print(X.shape)\n",
    "X[:1]"
   ]
  },
  {
   "cell_type": "code",
   "execution_count": 7,
   "metadata": {
    "collapsed": false
   },
   "outputs": [
    {
     "name": "stdout",
     "output_type": "stream",
     "text": [
      "<class 'numpy.ndarray'>\n",
      "(5910, 58)\n"
     ]
    },
    {
     "data": {
      "text/plain": [
       "array([[False, False, False, False, False, False, False, False, False,\n",
       "        False, False, False, False, False, False, False, False, False,\n",
       "        False, False, False, False, False, False, False, False, False,\n",
       "        False, False, False, False, False, False, False, False, False,\n",
       "        False, False, False, False, False, False, False, False, False,\n",
       "        False, False, False, False, False, False, False, False, False,\n",
       "        False, False,  True, False]], dtype=bool)"
      ]
     },
     "execution_count": 7,
     "metadata": {},
     "output_type": "execute_result"
    }
   ],
   "source": [
    "# Targets\n",
    "print(type(Y))\n",
    "print(Y.shape)\n",
    "Y[:1]"
   ]
  },
  {
   "cell_type": "code",
   "execution_count": 8,
   "metadata": {
    "collapsed": false
   },
   "outputs": [
    {
     "name": "stdout",
     "output_type": "stream",
     "text": [
      "<class 'dict'>\n",
      "58\n"
     ]
    },
    {
     "data": {
      "text/plain": [
       "{'\\n': 29,\n",
       " ' ': 53,\n",
       " '!': 9,\n",
       " \"'\": 25,\n",
       " ',': 12,\n",
       " '-': 10,\n",
       " '.': 18,\n",
       " ':': 52,\n",
       " ';': 20,\n",
       " '?': 46}"
      ]
     },
     "execution_count": 8,
     "metadata": {},
     "output_type": "execute_result"
    }
   ],
   "source": [
    "print(type(char_idx))\n",
    "print(len(char_idx))\n",
    "{k: char_idx[k] for k in sorted(char_idx.keys())[:10]}"
   ]
  },
  {
   "cell_type": "code",
   "execution_count": 9,
   "metadata": {
    "collapsed": true
   },
   "outputs": [],
   "source": [
    "# Serialize the dict for later\n",
    "pickle.dump(char_idx, open(char_idx_file,'wb'))"
   ]
  },
  {
   "cell_type": "markdown",
   "metadata": {},
   "source": [
    "# Graph"
   ]
  },
  {
   "cell_type": "code",
   "execution_count": 10,
   "metadata": {
    "collapsed": false
   },
   "outputs": [],
   "source": [
    "# Layer 0 (Input)\n",
    "g = tflearn.input_data([None, N_SEQUENCE, len(char_idx)]) \n",
    "\n",
    "# Layer 1 (Hidden) \n",
    "# http://tflearn.org/layers/recurrent/#lstm\n",
    "# return_seq: bool. If True, returns the full sequence instead of last sequence output only.\n",
    "g = tflearn.lstm(g, 512, return_seq=True)\n",
    "# http://tflearn.org/layers/core/#dropout\n",
    "g = tflearn.dropout(g, 0.5)\n",
    "\n",
    "# Layer 2 (Hidden)\n",
    "g = tflearn.lstm(g, 512, return_seq=True)\n",
    "g = tflearn.dropout(g, 0.5)\n",
    "\n",
    "# Layer 3 (Output)\n",
    "g = tflearn.lstm(g, 512)\n",
    "g = tflearn.dropout(g, 0.5)\n",
    "\n",
    "# Layer 2 (Fully Connected)\n",
    "g = tflearn.fully_connected(g, len(char_idx), activation='softmax')\n",
    "# http://tflearn.org/layers/estimator/#regression\n",
    "g = tflearn.regression(g, optimizer='adam', loss='categorical_crossentropy',\n",
    "                       learning_rate=0.001)"
   ]
  },
  {
   "cell_type": "code",
   "execution_count": 11,
   "metadata": {
    "collapsed": false
   },
   "outputs": [],
   "source": [
    "# http://tflearn.org/models/generator/#sequence-generator-model\n",
    "m = tflearn.SequenceGenerator(g, dictionary=char_idx,\n",
    "                              seq_maxlen=N_SEQUENCE,\n",
    "                              clip_gradients=5.0,\n",
    "                              checkpoint_path='model_shakespeare')"
   ]
  },
  {
   "cell_type": "code",
   "execution_count": null,
   "metadata": {
    "collapsed": false
   },
   "outputs": [
    {
     "data": {
      "text/plain": [
       "<tflearn.models.generator.SequenceGenerator at 0x11f510470>"
      ]
     },
     "execution_count": 12,
     "metadata": {},
     "output_type": "execute_result"
    }
   ],
   "source": [
    "m"
   ]
  },
  {
   "cell_type": "code",
   "execution_count": null,
   "metadata": {
    "collapsed": false
   },
   "outputs": [
    {
     "name": "stdout",
     "output_type": "stream",
     "text": [
      "Training Step: 63  | total loss: \u001b[1m\u001b[32m4.09650\u001b[0m\u001b[0m\n",
      "\u001b[2K\r",
      "| Adam | epoch: 000 | loss: 4.09650 -- iter: 0063/5319\n"
     ]
    }
   ],
   "source": [
    "for i in range(1):\n",
    "    \n",
    "    # Random 25 character string \"\"Now I may,'\\nShe that bein\"\"\n",
    "    seed = random_sequence_from_textfile(path, N_SEQUENCE)\n",
    "    \n",
    "    m.fit(X, Y, validation_set=0.1, batch_size=1, n_epoch=1, run_id='shakespeare')\n",
    "#     print(\"-- TESTING...\")\n",
    "#     print(\"-- Test with temperature of 1.0 --\")\n",
    "#     print(m.generate(600, temperature=1.0, seq_seed=seed))\n",
    "#     print(\"-- Test with temperature of 0.5 --\")\n",
    "#     print(m.generate(600, temperature=0.5, seq_seed=seed))\n",
    "    \n",
    "print(\"done\")"
   ]
  },
  {
   "cell_type": "code",
   "execution_count": null,
   "metadata": {
    "collapsed": true
   },
   "outputs": [],
   "source": []
  },
  {
   "cell_type": "code",
   "execution_count": null,
   "metadata": {
    "collapsed": true
   },
   "outputs": [],
   "source": []
  },
  {
   "cell_type": "code",
   "execution_count": null,
   "metadata": {
    "collapsed": true
   },
   "outputs": [],
   "source": []
  },
  {
   "cell_type": "code",
   "execution_count": null,
   "metadata": {
    "collapsed": true
   },
   "outputs": [],
   "source": []
  },
  {
   "cell_type": "code",
   "execution_count": null,
   "metadata": {
    "collapsed": true
   },
   "outputs": [],
   "source": []
  },
  {
   "cell_type": "code",
   "execution_count": null,
   "metadata": {
    "collapsed": true
   },
   "outputs": [],
   "source": []
  },
  {
   "cell_type": "code",
   "execution_count": null,
   "metadata": {
    "collapsed": true
   },
   "outputs": [],
   "source": []
  },
  {
   "cell_type": "code",
   "execution_count": null,
   "metadata": {
    "collapsed": true
   },
   "outputs": [],
   "source": []
  }
 ],
 "metadata": {
  "anaconda-cloud": {},
  "kernelspec": {
   "display_name": "Python [default]",
   "language": "python",
   "name": "python3"
  },
  "language_info": {
   "codemirror_mode": {
    "name": "ipython",
    "version": 3
   },
   "file_extension": ".py",
   "mimetype": "text/x-python",
   "name": "python",
   "nbconvert_exporter": "python",
   "pygments_lexer": "ipython3",
   "version": "3.5.2"
  }
 },
 "nbformat": 4,
 "nbformat_minor": 1
}
