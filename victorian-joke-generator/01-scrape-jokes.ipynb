{
 "cells": [
  {
   "cell_type": "markdown",
   "metadata": {},
   "source": [
    "### Resources:\n",
    "- [Victorian Humour Tumblr](http://victorianhumour.tumblr.com/)\n",
    "- [Victorian Jokes](http://victorianhumour.com/jokedb/)\n",
    "- [Stackoverflow](http://stackoverflow.com/questions/26497722/scrape-multiple-pages-with-beautifulsoup-and-python)"
   ]
  },
  {
   "cell_type": "markdown",
   "metadata": {},
   "source": [
    "# Goal\n",
    "- Scrape multiple pages of a comedy blog to generate a corpus of jokes. \n",
    "- I will use this later to train our recurrent neural network."
   ]
  },
  {
   "cell_type": "code",
   "execution_count": 1,
   "metadata": {
    "collapsed": true
   },
   "outputs": [],
   "source": [
    "import numpy as np\n",
    "import requests\n",
    "from bs4 import BeautifulSoup"
   ]
  },
  {
   "cell_type": "markdown",
   "metadata": {},
   "source": [
    "### Scraping Multiple Pages\n",
    "- Use Chrome's inspection tool I identified a offset pattern in the blogs GET request URL\n",
    "- http://victorianhumour.com/?offset=120&paging=40"
   ]
  },
  {
   "cell_type": "code",
   "execution_count": 2,
   "metadata": {
    "collapsed": false
   },
   "outputs": [
    {
     "data": {
      "text/plain": [
       "array([  0,  40,  80, 120, 160, 200, 240, 280, 320, 360])"
      ]
     },
     "execution_count": 2,
     "metadata": {},
     "output_type": "execute_result"
    }
   ],
   "source": [
    "# Generate a list with the custom offset pattern of 40\n",
    "import numpy as np\n",
    "offset = np.arange(start=0, stop=400, step=40)\n",
    "\n",
    "offset"
   ]
  },
  {
   "cell_type": "code",
   "execution_count": 3,
   "metadata": {
    "collapsed": true
   },
   "outputs": [],
   "source": [
    "# Simplifys html parcing by passing blog a moble agent request\n",
    "headers = {'user-agent': 'Mozilla/5.0 (iPhone; CPU iPhone OS 9_2 like Mac OS X)'}"
   ]
  },
  {
   "cell_type": "code",
   "execution_count": 4,
   "metadata": {
    "collapsed": false
   },
   "outputs": [
    {
     "name": "stdout",
     "output_type": "stream",
     "text": [
      "http://victorianhumour.com/jokedb/?offset=0&paging=40\n",
      "200\n",
      "http://victorianhumour.com/jokedb/?offset=40&paging=40\n",
      "200\n",
      "http://victorianhumour.com/jokedb/?offset=80&paging=40\n",
      "200\n",
      "http://victorianhumour.com/jokedb/?offset=120&paging=40\n",
      "200\n",
      "http://victorianhumour.com/jokedb/?offset=160&paging=40\n",
      "200\n",
      "http://victorianhumour.com/jokedb/?offset=200&paging=40\n",
      "200\n",
      "http://victorianhumour.com/jokedb/?offset=240&paging=40\n",
      "200\n",
      "http://victorianhumour.com/jokedb/?offset=280&paging=40\n",
      "200\n",
      "http://victorianhumour.com/jokedb/?offset=320&paging=40\n",
      "200\n",
      "http://victorianhumour.com/jokedb/?offset=360&paging=40\n",
      "200\n"
     ]
    }
   ],
   "source": [
    "# Opens a new blank text file inside a 'with' block for automatic file closure\n",
    "with open('scraped_jokes.txt', 'w') as myfile:\n",
    "    \n",
    "    # Loops through each blog page\n",
    "    for page in offset:\n",
    "        \n",
    "        # Makes new URL request for each offset page value\n",
    "        url = \"http://victorianhumour.com/jokedb/?offset={}&paging=40\".format(page)\n",
    "        response = requests.get(url, headers=headers)\n",
    "        \n",
    "        # Log and test (for the code 200) to verify page loads correctly\n",
    "        print(url)\n",
    "        print(response.status_code)\n",
    "\n",
    "        # Parces html then strips text contained in the <j> tag\n",
    "        soup = BeautifulSoup(response.content, 'lxml')\n",
    "        j_array = soup.body.find_all('j')\n",
    "        \n",
    "        # Modifies temp file with append permissions (Uses \"a\" instead of \"w\")\n",
    "        with open('scraped_jokes.txt', 'a') as myfile:\n",
    "            \n",
    "            # Strips each html item of tags then appends them to file\n",
    "            for joke in j_array:\n",
    "                myfile.write(\"%s\\n\\n\" % joke.text)"
   ]
  }
 ],
 "metadata": {
  "anaconda-cloud": {},
  "kernelspec": {
   "display_name": "Python [default]",
   "language": "python",
   "name": "python3"
  },
  "language_info": {
   "codemirror_mode": {
    "name": "ipython",
    "version": 3
   },
   "file_extension": ".py",
   "mimetype": "text/x-python",
   "name": "python",
   "nbconvert_exporter": "python",
   "pygments_lexer": "ipython3",
   "version": "3.5.2"
  }
 },
 "nbformat": 4,
 "nbformat_minor": 1
}
